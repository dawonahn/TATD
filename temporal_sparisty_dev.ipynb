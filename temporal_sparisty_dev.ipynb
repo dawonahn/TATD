{
 "cells": [
  {
   "cell_type": "code",
   "execution_count": 59,
   "metadata": {
    "pycharm": {
     "is_executing": false
    }
   },
   "outputs": [],
   "source": [
    "from tatd2.utils import *\n",
    "from tatd2.read import *\n",
    "from tatd2.train import *\n",
    "# from tatd2.tatd import *\n",
    "from tatd2.alternating import *\n",
    "from tatd2.als import *\n",
    "# from tatd.als_opt import *"
   ]
  },
  {
   "cell_type": "code",
   "execution_count": 60,
   "metadata": {},
   "outputs": [],
   "source": [
    "name = 'radar'\n",
    "sparse = 0\n",
    "rank = 10\n",
    "window = 5\n",
    "penalty = 10\n",
    "opt_scheme = 'als_adam'\n",
    "lr = 0.001\n",
    "gpu = 0\n",
    "count = 100"
   ]
  },
  {
   "cell_type": "code",
   "execution_count": 61,
   "metadata": {},
   "outputs": [],
   "source": [
    "loss_path, model_path, total_path = get_path(name, sparse, \n",
    "                                            rank, window, penalty,\n",
    "                                            opt_scheme, lr, count)"
   ]
  },
  {
   "cell_type": "code",
   "execution_count": 62,
   "metadata": {
    "collapsed": false,
    "jupyter": {
     "outputs_hidden": false
    },
    "pycharm": {
     "is_executing": false,
     "name": "#%%\n"
    }
   },
   "outputs": [],
   "source": [
    "\n",
    "device = f'cuda:{gpu}'\n",
    "\n",
    "dataset = read_dataset(name, device)\n",
    "dataset['count'], dataset['window'] = count, window\n",
    "nmode, ndim, tmode =  dataset['nmode'], dataset['ndim'], dataset['tmode']\n",
    "\n",
    "density = dataset['ts_beta']\n",
    "\n",
    "model = Tatd(nmode, ndim, tmode, density, rank, window, sparse, device).to(device)"
   ]
  },
  {
   "cell_type": "code",
   "execution_count": 63,
   "metadata": {},
   "outputs": [],
   "source": [
    "factors = list(model.factors)\n",
    "\n",
    "tidx = dataset['train'].indices()\n",
    "\n",
    "nnz = krprod(factors, tidx)"
   ]
  },
  {
   "cell_type": "code",
   "execution_count": 64,
   "metadata": {},
   "outputs": [
    {
     "data": {
      "text/plain": [
       "torch.Size([396548])"
      ]
     },
     "execution_count": 64,
     "metadata": {},
     "output_type": "execute_result"
    }
   ],
   "source": [
    "nnz.shape"
   ]
  },
  {
   "cell_type": "code",
   "execution_count": 65,
   "metadata": {},
   "outputs": [
    {
     "ename": "NameError",
     "evalue": "name 'trai' is not defined",
     "output_type": "error",
     "traceback": [
      "\u001b[0;31m---------------------------------------------------------------------------\u001b[0m",
      "\u001b[0;31mNameError\u001b[0m                                 Traceback (most recent call last)",
      "\u001b[0;32m<ipython-input-65-5debc3e5e0dd>\u001b[0m in \u001b[0;36m<module>\u001b[0;34m\u001b[0m\n\u001b[0;32m----> 1\u001b[0;31m \u001b[0mtrai\u001b[0m\u001b[0;34m\u001b[0m\u001b[0m\n\u001b[0m",
      "\u001b[0;31mNameError\u001b[0m: name 'trai' is not defined"
     ]
    }
   ],
   "source": [
    "trai"
   ]
  },
  {
   "cell_type": "code",
   "execution_count": 25,
   "metadata": {},
   "outputs": [
    {
     "data": {
      "text/plain": [
       "tensor([[    0,     0,     0,  ..., 17936, 17936, 17936],\n",
       "        [    8,     8,     9,  ...,    15,    17,    17],\n",
       "        [    1,     3,     1,  ...,     2,     0,     4]], device='cuda:0')"
      ]
     },
     "execution_count": 25,
     "metadata": {},
     "output_type": "execute_result"
    }
   ],
   "source": [
    "tidx"
   ]
  },
  {
   "cell_type": "code",
   "execution_count": 28,
   "metadata": {},
   "outputs": [
    {
     "data": {
      "text/plain": [
       "17937"
      ]
     },
     "execution_count": 28,
     "metadata": {},
     "output_type": "execute_result"
    }
   ],
   "source": [
    "len(density)"
   ]
  },
  {
   "cell_type": "code",
   "execution_count": 30,
   "metadata": {},
   "outputs": [
    {
     "data": {
      "text/plain": [
       "torch.Size([17937, 23, 5])"
      ]
     },
     "execution_count": 30,
     "metadata": {},
     "output_type": "execute_result"
    }
   ],
   "source": [
    "dataset['ndim']"
   ]
  },
  {
   "cell_type": "code",
   "execution_count": 32,
   "metadata": {},
   "outputs": [
    {
     "data": {
      "text/plain": [
       "tensor([[    0,     0,     0,  ..., 17936, 17936, 17936],\n",
       "        [    8,     8,     9,  ...,    15,    17,    17],\n",
       "        [    1,     3,     1,  ...,     2,     0,     4]], device='cuda:0')"
      ]
     },
     "execution_count": 32,
     "metadata": {},
     "output_type": "execute_result"
    }
   ],
   "source": [
    "tidx = "
   ]
  },
  {
   "cell_type": "markdown",
   "metadata": {},
   "source": [
    "# functions"
   ]
  },
  {
   "cell_type": "code",
   "execution_count": 46,
   "metadata": {},
   "outputs": [],
   "source": [
    "rlambda = nn.Parameter(torch.FloatTensor(rng.random_sample(17937)))"
   ]
  },
  {
   "cell_type": "code",
   "execution_count": 50,
   "metadata": {},
   "outputs": [
    {
     "name": "stdout",
     "output_type": "stream",
     "text": [
      "tensor([[ 8.0772e-05, -7.5293e-05, -1.1253e-05,  ...,  1.9798e-04,\n",
      "         -1.9992e-05, -6.1197e-04],\n",
      "        [-1.3210e-04,  1.3708e-05,  5.1276e-05,  ..., -1.2411e-04,\n",
      "         -6.2321e-05,  5.0403e-04],\n",
      "        [-2.6103e-05,  2.5790e-05, -1.0906e-05,  ..., -9.3747e-05,\n",
      "          6.3023e-05,  2.1188e-04],\n",
      "        ...,\n",
      "        [-3.3768e-05, -3.5480e-06,  2.2379e-04,  ..., -5.8253e-04,\n",
      "          2.5756e-04,  8.5788e-04],\n",
      "        [ 2.4150e-05,  5.3540e-06, -2.1570e-04,  ..., -8.9758e-04,\n",
      "          3.2027e-04, -1.0246e-04],\n",
      "        [-8.3603e-06,  7.1401e-06,  4.0463e-04,  ...,  2.0280e-04,\n",
      "         -6.7350e-04, -1.8740e-04]], device='cuda:0')\n",
      "tensor([[ 8.8435e-06, -8.2436e-06, -1.2321e-06,  ...,  2.1676e-05,\n",
      "         -2.1889e-06, -6.7003e-05],\n",
      "        [-1.4463e-05,  1.5009e-06,  5.6140e-06,  ..., -1.3588e-05,\n",
      "         -6.8234e-06,  5.5185e-05],\n",
      "        [-2.8580e-06,  2.8237e-06, -1.1940e-06,  ..., -1.0264e-05,\n",
      "          6.9002e-06,  2.3198e-05],\n",
      "        ...,\n",
      "        [-3.6972e-06, -3.8847e-07,  2.4502e-05,  ..., -6.3779e-05,\n",
      "          2.8199e-05,  9.3928e-05],\n",
      "        [ 2.6441e-06,  5.8619e-07, -2.3616e-05,  ..., -9.8274e-05,\n",
      "          3.5066e-05, -1.1219e-05],\n",
      "        [-9.1535e-07,  7.8175e-07,  4.4302e-05,  ...,  2.2204e-05,\n",
      "         -7.3740e-05, -2.0518e-05]], device='cuda:0', grad_fn=<MulBackward0>)\n"
     ]
    }
   ],
   "source": [
    "tmp = krprod2(rlambda, factors, tidx)"
   ]
  },
  {
   "cell_type": "code",
   "execution_count": 58,
   "metadata": {},
   "outputs": [
    {
     "data": {
      "text/plain": [
       "torch.Size([396548, 10])"
      ]
     },
     "execution_count": 58,
     "metadata": {},
     "output_type": "execute_result"
    }
   ],
   "source": [
    "tmp.shape"
   ]
  },
  {
   "cell_type": "code",
   "execution_count": 56,
   "metadata": {},
   "outputs": [
    {
     "ename": "IndexError",
     "evalue": "Dimension out of range (expected to be in range of [-2, 1], but got 2)",
     "output_type": "error",
     "traceback": [
      "\u001b[0;31m---------------------------------------------------------------------------\u001b[0m",
      "\u001b[0;31mIndexError\u001b[0m                                Traceback (most recent call last)",
      "\u001b[0;32m<ipython-input-56-5adbbb4c9ae2>\u001b[0m in \u001b[0;36m<module>\u001b[0;34m\u001b[0m\n\u001b[0;32m----> 1\u001b[0;31m \u001b[0mtmp\u001b[0m\u001b[0;34m.\u001b[0m\u001b[0msum\u001b[0m\u001b[0;34m(\u001b[0m\u001b[0maxis\u001b[0m \u001b[0;34m=\u001b[0m \u001b[0;36m2\u001b[0m\u001b[0;34m)\u001b[0m\u001b[0;34m.\u001b[0m\u001b[0mshape\u001b[0m\u001b[0;34m\u001b[0m\u001b[0m\n\u001b[0m",
      "\u001b[0;31mIndexError\u001b[0m: Dimension out of range (expected to be in range of [-2, 1], but got 2)"
     ]
    }
   ],
   "source": [
    "tmp.sum(axis = 2).shape"
   ]
  },
  {
   "cell_type": "code",
   "execution_count": 47,
   "metadata": {},
   "outputs": [],
   "source": [
    "def krprod2(rlambda, factors, indices_list):\n",
    "\n",
    "    ''' Khatri-rao product for given nonzeros' indicies '''\n",
    "\n",
    "    rank = tl.shape(factors[0])[1]\n",
    "    nnz = len(indices_list[0])\n",
    "    nonzeros = tl.ones((nnz, rank), **tl.context(factors[0]))\n",
    "    \n",
    "    for indices, factor in zip(indices_list, factors):\n",
    "        nonzeros = nonzeros * factor[indices, :]\n",
    "    \n",
    "    print(nonzeros)\n",
    "    nonzeros = nonzeros * rlambda[indices[0]]\n",
    "        \n",
    "    print(nonzeros)\n",
    "#     return torch.sum(nonzeros, dim = 1)\n",
    "    return nonzeros"
   ]
  },
  {
   "cell_type": "code",
   "execution_count": 13,
   "metadata": {
    "collapsed": false,
    "jupyter": {
     "outputs_hidden": false
    },
    "pycharm": {
     "name": "#%%\n"
    }
   },
   "outputs": [],
   "source": [
    "def krprod(factors, indices_list):\n",
    "\n",
    "    ''' Khatri-rao product for given nonzeros' indicies '''\n",
    "\n",
    "    rank = tl.shape(factors[0])[1]\n",
    "    nnz = len(indices_list[0])\n",
    "    nonzeros = tl.ones((nnz, rank), **tl.context(factors[0]))\n",
    "    \n",
    "    for indices, factor in zip(indices_list, factors):\n",
    "        nonzeros = nonzeros * factor[indices, :]\n",
    "\n",
    "#     return torch.sum(nonzeros, dim = 1)\n",
    "    return nonzeros"
   ]
  }
 ],
 "metadata": {
  "kernelspec": {
   "display_name": "Python 3",
   "language": "python",
   "name": "python3"
  },
  "language_info": {
   "codemirror_mode": {
    "name": "ipython",
    "version": 3
   },
   "file_extension": ".py",
   "mimetype": "text/x-python",
   "name": "python",
   "nbconvert_exporter": "python",
   "pygments_lexer": "ipython3",
   "version": "3.6.5"
  },
  "pycharm": {
   "stem_cell": {
    "cell_type": "raw",
    "metadata": {
     "collapsed": false
    },
    "source": []
   }
  }
 },
 "nbformat": 4,
 "nbformat_minor": 4
}
